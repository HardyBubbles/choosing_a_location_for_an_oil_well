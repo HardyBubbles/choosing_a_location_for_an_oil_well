{
 "cells": [
  {
   "cell_type": "markdown",
   "metadata": {},
   "source": [
    "# Выбор локации для скважины"
   ]
  },
  {
   "cell_type": "markdown",
   "metadata": {},
   "source": [
    "Допустим, вы работаете в добывающей компании «ГлавРосГосНефть». Нужно решить, где бурить новую скважину.\n",
    "\n",
    "Вам предоставлены пробы нефти в трёх регионах: в каждом 10 000 месторождений, где измерили качество нефти и объём её запасов. Постройте модель машинного обучения, которая поможет определить регион, где добыча принесёт наибольшую прибыль. Проанализируйте возможную прибыль и риски техникой *Bootstrap.*\n",
    "\n",
    "Описание данных\n",
    "Данные геологоразведки трёх регионов находятся в файлах: \n",
    "\n",
    "    /datasets/geo_data_0.csv. \n",
    "    /datasets/geo_data_1.csv. \n",
    "    /datasets/geo_data_2.csv. \n",
    "    id — уникальный идентификатор скважины;\n",
    "    f0, f1, f2 — три признака точек (неважно, что они означают, но сами признаки значимы);\n",
    "    product — объём запасов в скважине (тыс. баррелей).\n",
    "\n",
    "Нам предоставлены пробы нефти в трёх регионах. Характеристики для каждой скважины в регионе уже известны.  \n",
    "Данные синтетические: детали контрактов и характеристики месторождений не разглашаются.\n",
    "\n",
    "Шаги для выбора локации:\n",
    "\n",
    "- В избранном регионе ищут месторождения, для каждого определяют значения признаков;\n",
    "- Строят модель и оценивают объём запасов;\n",
    "- Выбирают месторождения с самым высокими оценками значений. Количество месторождений зависит от бюджета компании и стоимости разработки одной скважины;\n",
    "- Прибыль равна суммарной прибыли отобранных месторождений.\n",
    "\n",
    "Условия задачи:  \n",
    "- Для обучения модели подходит только линейная регрессия (остальные — недостаточно предсказуемые);\n",
    "- При разведке региона исследуют 500 точек, из которых с помощью машинного обучения выбирают 200 лучших для разработки;\n",
    "- Бюджет на разработку скважин в регионе — 10 млрд рублей;\n",
    "- При нынешних ценах один баррель сырья приносит 450 рублей дохода. Доход с каждой единицы продукта составляет 450 тыс. рублей, поскольку объём указан в тысячах баррелей;\n",
    "- После оценки рисков нужно оставить лишь те регионы, в которых вероятность убытков меньше 2.5%. Среди них выбирают регион с наибольшей средней прибылью.\n",
    "\n",
    "Цели:  \n",
    "1) построить модель для определения региона, где добыча принесёт наибольшую прибыль;  \n",
    "2) Проанализируйте возможную прибыль и риски техникой Bootstrap.\n",
    "\n",
    "Инструкция по выполнению проекта:\n",
    "\n",
    "    Загрузить и подготовить данные. Поясните порядок действий.\n",
    "    Обучить и проверить модель для каждого региона:\n",
    "     1.1. Разбейте данные на обучающую и валидационную выборки в соотношении 75:25.\n",
    "     1.2. Обучите модель и сделайте предсказания на валидационной выборке.\n",
    "     1.3. Сохраните предсказания и правильные ответы на валидационной выборке.\n",
    "     1.4. Напечатайте на экране средний запас предсказанного сырья и RMSE модели.\n",
    "     1.5. Проанализируйте результаты.\n",
    "    Подготовьтесь к расчёту прибыли:\n",
    "     2.1. Все ключевые значения для расчётов сохраните в отдельных переменных.\n",
    "     2.2. Рассчитайте достаточный объём сырья для безубыточной разработки новой скважины. Сравните полученный объём сырья со средним запасом в каждом регионе. \n",
    "     2.3. Напишите выводы по этапу подготовки расчёта прибыли.\n",
    "    Напишите функцию для расчёта прибыли по выбранным скважинам и предсказаниям модели:\n",
    "     3.1. Выберите скважины с максимальными значениями предсказаний. \n",
    "     3.2. Просуммируйте целевое значение объёма сырья, соответствующее этим предсказаниям.\n",
    "     3.3. Рассчитайте прибыль для полученного объёма сырья.\n",
    "    Посчитайте риски и прибыль для каждого региона:\n",
    "     4.1. Примените технику Bootstrap с 1000 выборок, чтобы найти распределение прибыли.\n",
    "     4.2. Найдите среднюю прибыль, 95%-й доверительный интервал и риск убытков. Убыток — это отрицательная прибыль.\n",
    "     4.3. Напишите выводы: предложите регион для разработки скважин и обоснуйте выбор.\n"
   ]
  },
  {
   "cell_type": "markdown",
   "metadata": {},
   "source": [
    "## Загрузка и подготовка данных"
   ]
  },
  {
   "cell_type": "markdown",
   "metadata": {},
   "source": [
    "### Импорт библиотек, оценка данных"
   ]
  },
  {
   "cell_type": "markdown",
   "metadata": {},
   "source": [
    "Начинаем всегда с загрузки нужных библиотек, после чего сохраним наши данные в переменные."
   ]
  },
  {
   "cell_type": "code",
   "execution_count": 1,
   "metadata": {},
   "outputs": [],
   "source": [
    "import pandas as pd\n",
    "import matplotlib.pyplot as plt\n",
    "import numpy as np\n",
    "import os\n",
    "\n",
    "from sklearn.model_selection import train_test_split\n",
    "from sklearn.linear_model import LinearRegression\n",
    "from sklearn.metrics import mean_squared_error\n",
    "from sklearn.preprocessing import StandardScaler\n",
    "from sklearn.utils import shuffle\n",
    "\n",
    "import warnings\n",
    "warnings.filterwarnings('ignore')"
   ]
  },
  {
   "cell_type": "markdown",
   "metadata": {},
   "source": [
    "<div class=\"alert alert-block alert-success\">\n",
    "<b>Успех:</b> Импорты  на месте\n",
    "</div>"
   ]
  },
  {
   "cell_type": "code",
   "execution_count": 2,
   "metadata": {},
   "outputs": [],
   "source": [
    "pth0_1 = '/datasets/geo_data_0.csv'\n",
    "pth0_2 = 'C:/Users/username/Desktop/geo_data_0.csv'\n",
    "\n",
    "pth1_1 = '/datasets/geo_data_1.csv'\n",
    "pth1_2 = 'C:/Users/username/Desktop/geo_data_1.csv'\n",
    "\n",
    "pth2_1 = '/datasets/geo_data_2.csv'\n",
    "pth2_2 = 'C:/Users/username/Desktop/geo_data_2.csv'\n",
    "\n",
    "if os.path.exists(pth0_1):\n",
    "    data_1 = pd.read_csv(pth0_1)\n",
    "elif os.path.exists(pth0_2):\n",
    "    data_1 = pd.read_csv(pth0_2)\n",
    "else:\n",
    "    print('Check the PATH to data_0 file please')\n",
    "\n",
    "if os.path.exists(pth1_1):\n",
    "    data_2 = pd.read_csv(pth1_1)\n",
    "elif os.path.exists(pth1_2):\n",
    "    data_2 = pd.read_csv(pth1_2)\n",
    "else:\n",
    "    print('Check the PATH to data_1 file please')\n",
    "    \n",
    "if os.path.exists(pth2_1):\n",
    "    data_3 = pd.read_csv(pth2_1)\n",
    "elif os.path.exists(pth2_2):\n",
    "    data_3 = pd.read_csv(pth2_2)\n",
    "else:\n",
    "    print('Check the PATH to data_2 file please')\n",
    "    "
   ]
  },
  {
   "cell_type": "markdown",
   "metadata": {},
   "source": [
    "Смотрим, какие значения содержатся, выводим первую аналитическую информацию"
   ]
  },
  {
   "cell_type": "code",
   "execution_count": 3,
   "metadata": {
    "scrolled": false
   },
   "outputs": [
    {
     "data": {
      "text/html": [
       "<div>\n",
       "<style scoped>\n",
       "    .dataframe tbody tr th:only-of-type {\n",
       "        vertical-align: middle;\n",
       "    }\n",
       "\n",
       "    .dataframe tbody tr th {\n",
       "        vertical-align: top;\n",
       "    }\n",
       "\n",
       "    .dataframe thead th {\n",
       "        text-align: right;\n",
       "    }\n",
       "</style>\n",
       "<table border=\"1\" class=\"dataframe\">\n",
       "  <thead>\n",
       "    <tr style=\"text-align: right;\">\n",
       "      <th></th>\n",
       "      <th>id</th>\n",
       "      <th>f0</th>\n",
       "      <th>f1</th>\n",
       "      <th>f2</th>\n",
       "      <th>product</th>\n",
       "    </tr>\n",
       "  </thead>\n",
       "  <tbody>\n",
       "    <tr>\n",
       "      <th>0</th>\n",
       "      <td>txEyH</td>\n",
       "      <td>0.705745</td>\n",
       "      <td>-0.497823</td>\n",
       "      <td>1.221170</td>\n",
       "      <td>105.280062</td>\n",
       "    </tr>\n",
       "    <tr>\n",
       "      <th>1</th>\n",
       "      <td>2acmU</td>\n",
       "      <td>1.334711</td>\n",
       "      <td>-0.340164</td>\n",
       "      <td>4.365080</td>\n",
       "      <td>73.037750</td>\n",
       "    </tr>\n",
       "    <tr>\n",
       "      <th>2</th>\n",
       "      <td>409Wp</td>\n",
       "      <td>1.022732</td>\n",
       "      <td>0.151990</td>\n",
       "      <td>1.419926</td>\n",
       "      <td>85.265647</td>\n",
       "    </tr>\n",
       "    <tr>\n",
       "      <th>3</th>\n",
       "      <td>iJLyR</td>\n",
       "      <td>-0.032172</td>\n",
       "      <td>0.139033</td>\n",
       "      <td>2.978566</td>\n",
       "      <td>168.620776</td>\n",
       "    </tr>\n",
       "    <tr>\n",
       "      <th>4</th>\n",
       "      <td>Xdl7t</td>\n",
       "      <td>1.988431</td>\n",
       "      <td>0.155413</td>\n",
       "      <td>4.751769</td>\n",
       "      <td>154.036647</td>\n",
       "    </tr>\n",
       "  </tbody>\n",
       "</table>\n",
       "</div>"
      ],
      "text/plain": [
       "      id        f0        f1        f2     product\n",
       "0  txEyH  0.705745 -0.497823  1.221170  105.280062\n",
       "1  2acmU  1.334711 -0.340164  4.365080   73.037750\n",
       "2  409Wp  1.022732  0.151990  1.419926   85.265647\n",
       "3  iJLyR -0.032172  0.139033  2.978566  168.620776\n",
       "4  Xdl7t  1.988431  0.155413  4.751769  154.036647"
      ]
     },
     "metadata": {},
     "output_type": "display_data"
    },
    {
     "data": {
      "text/html": [
       "<div>\n",
       "<style scoped>\n",
       "    .dataframe tbody tr th:only-of-type {\n",
       "        vertical-align: middle;\n",
       "    }\n",
       "\n",
       "    .dataframe tbody tr th {\n",
       "        vertical-align: top;\n",
       "    }\n",
       "\n",
       "    .dataframe thead th {\n",
       "        text-align: right;\n",
       "    }\n",
       "</style>\n",
       "<table border=\"1\" class=\"dataframe\">\n",
       "  <thead>\n",
       "    <tr style=\"text-align: right;\">\n",
       "      <th></th>\n",
       "      <th>f0</th>\n",
       "      <th>f1</th>\n",
       "      <th>f2</th>\n",
       "      <th>product</th>\n",
       "    </tr>\n",
       "  </thead>\n",
       "  <tbody>\n",
       "    <tr>\n",
       "      <th>count</th>\n",
       "      <td>100000.000000</td>\n",
       "      <td>100000.000000</td>\n",
       "      <td>100000.000000</td>\n",
       "      <td>100000.000000</td>\n",
       "    </tr>\n",
       "    <tr>\n",
       "      <th>mean</th>\n",
       "      <td>0.500419</td>\n",
       "      <td>0.250143</td>\n",
       "      <td>2.502647</td>\n",
       "      <td>92.500000</td>\n",
       "    </tr>\n",
       "    <tr>\n",
       "      <th>std</th>\n",
       "      <td>0.871832</td>\n",
       "      <td>0.504433</td>\n",
       "      <td>3.248248</td>\n",
       "      <td>44.288691</td>\n",
       "    </tr>\n",
       "    <tr>\n",
       "      <th>min</th>\n",
       "      <td>-1.408605</td>\n",
       "      <td>-0.848218</td>\n",
       "      <td>-12.088328</td>\n",
       "      <td>0.000000</td>\n",
       "    </tr>\n",
       "    <tr>\n",
       "      <th>25%</th>\n",
       "      <td>-0.072580</td>\n",
       "      <td>-0.200881</td>\n",
       "      <td>0.287748</td>\n",
       "      <td>56.497507</td>\n",
       "    </tr>\n",
       "    <tr>\n",
       "      <th>50%</th>\n",
       "      <td>0.502360</td>\n",
       "      <td>0.250252</td>\n",
       "      <td>2.515969</td>\n",
       "      <td>91.849972</td>\n",
       "    </tr>\n",
       "    <tr>\n",
       "      <th>75%</th>\n",
       "      <td>1.073581</td>\n",
       "      <td>0.700646</td>\n",
       "      <td>4.715088</td>\n",
       "      <td>128.564089</td>\n",
       "    </tr>\n",
       "    <tr>\n",
       "      <th>max</th>\n",
       "      <td>2.362331</td>\n",
       "      <td>1.343769</td>\n",
       "      <td>16.003790</td>\n",
       "      <td>185.364347</td>\n",
       "    </tr>\n",
       "  </tbody>\n",
       "</table>\n",
       "</div>"
      ],
      "text/plain": [
       "                  f0             f1             f2        product\n",
       "count  100000.000000  100000.000000  100000.000000  100000.000000\n",
       "mean        0.500419       0.250143       2.502647      92.500000\n",
       "std         0.871832       0.504433       3.248248      44.288691\n",
       "min        -1.408605      -0.848218     -12.088328       0.000000\n",
       "25%        -0.072580      -0.200881       0.287748      56.497507\n",
       "50%         0.502360       0.250252       2.515969      91.849972\n",
       "75%         1.073581       0.700646       4.715088     128.564089\n",
       "max         2.362331       1.343769      16.003790     185.364347"
      ]
     },
     "metadata": {},
     "output_type": "display_data"
    },
    {
     "name": "stdout",
     "output_type": "stream",
     "text": [
      "<class 'pandas.core.frame.DataFrame'>\n",
      "RangeIndex: 100000 entries, 0 to 99999\n",
      "Data columns (total 5 columns):\n",
      " #   Column   Non-Null Count   Dtype  \n",
      "---  ------   --------------   -----  \n",
      " 0   id       100000 non-null  object \n",
      " 1   f0       100000 non-null  float64\n",
      " 2   f1       100000 non-null  float64\n",
      " 3   f2       100000 non-null  float64\n",
      " 4   product  100000 non-null  float64\n",
      "dtypes: float64(4), object(1)\n",
      "memory usage: 3.8+ MB\n"
     ]
    },
    {
     "data": {
      "text/plain": [
       "None"
      ]
     },
     "metadata": {},
     "output_type": "display_data"
    },
    {
     "data": {
      "text/html": [
       "<div>\n",
       "<style scoped>\n",
       "    .dataframe tbody tr th:only-of-type {\n",
       "        vertical-align: middle;\n",
       "    }\n",
       "\n",
       "    .dataframe tbody tr th {\n",
       "        vertical-align: top;\n",
       "    }\n",
       "\n",
       "    .dataframe thead th {\n",
       "        text-align: right;\n",
       "    }\n",
       "</style>\n",
       "<table border=\"1\" class=\"dataframe\">\n",
       "  <thead>\n",
       "    <tr style=\"text-align: right;\">\n",
       "      <th></th>\n",
       "      <th>id</th>\n",
       "      <th>f0</th>\n",
       "      <th>f1</th>\n",
       "      <th>f2</th>\n",
       "      <th>product</th>\n",
       "    </tr>\n",
       "  </thead>\n",
       "  <tbody>\n",
       "    <tr>\n",
       "      <th>0</th>\n",
       "      <td>kBEdx</td>\n",
       "      <td>-15.001348</td>\n",
       "      <td>-8.276000</td>\n",
       "      <td>-0.005876</td>\n",
       "      <td>3.179103</td>\n",
       "    </tr>\n",
       "    <tr>\n",
       "      <th>1</th>\n",
       "      <td>62mP7</td>\n",
       "      <td>14.272088</td>\n",
       "      <td>-3.475083</td>\n",
       "      <td>0.999183</td>\n",
       "      <td>26.953261</td>\n",
       "    </tr>\n",
       "    <tr>\n",
       "      <th>2</th>\n",
       "      <td>vyE1P</td>\n",
       "      <td>6.263187</td>\n",
       "      <td>-5.948386</td>\n",
       "      <td>5.001160</td>\n",
       "      <td>134.766305</td>\n",
       "    </tr>\n",
       "    <tr>\n",
       "      <th>3</th>\n",
       "      <td>KcrkZ</td>\n",
       "      <td>-13.081196</td>\n",
       "      <td>-11.506057</td>\n",
       "      <td>4.999415</td>\n",
       "      <td>137.945408</td>\n",
       "    </tr>\n",
       "    <tr>\n",
       "      <th>4</th>\n",
       "      <td>AHL4O</td>\n",
       "      <td>12.702195</td>\n",
       "      <td>-8.147433</td>\n",
       "      <td>5.004363</td>\n",
       "      <td>134.766305</td>\n",
       "    </tr>\n",
       "  </tbody>\n",
       "</table>\n",
       "</div>"
      ],
      "text/plain": [
       "      id         f0         f1        f2     product\n",
       "0  kBEdx -15.001348  -8.276000 -0.005876    3.179103\n",
       "1  62mP7  14.272088  -3.475083  0.999183   26.953261\n",
       "2  vyE1P   6.263187  -5.948386  5.001160  134.766305\n",
       "3  KcrkZ -13.081196 -11.506057  4.999415  137.945408\n",
       "4  AHL4O  12.702195  -8.147433  5.004363  134.766305"
      ]
     },
     "metadata": {},
     "output_type": "display_data"
    },
    {
     "data": {
      "text/html": [
       "<div>\n",
       "<style scoped>\n",
       "    .dataframe tbody tr th:only-of-type {\n",
       "        vertical-align: middle;\n",
       "    }\n",
       "\n",
       "    .dataframe tbody tr th {\n",
       "        vertical-align: top;\n",
       "    }\n",
       "\n",
       "    .dataframe thead th {\n",
       "        text-align: right;\n",
       "    }\n",
       "</style>\n",
       "<table border=\"1\" class=\"dataframe\">\n",
       "  <thead>\n",
       "    <tr style=\"text-align: right;\">\n",
       "      <th></th>\n",
       "      <th>f0</th>\n",
       "      <th>f1</th>\n",
       "      <th>f2</th>\n",
       "      <th>product</th>\n",
       "    </tr>\n",
       "  </thead>\n",
       "  <tbody>\n",
       "    <tr>\n",
       "      <th>count</th>\n",
       "      <td>100000.000000</td>\n",
       "      <td>100000.000000</td>\n",
       "      <td>100000.000000</td>\n",
       "      <td>100000.000000</td>\n",
       "    </tr>\n",
       "    <tr>\n",
       "      <th>mean</th>\n",
       "      <td>1.141296</td>\n",
       "      <td>-4.796579</td>\n",
       "      <td>2.494541</td>\n",
       "      <td>68.825000</td>\n",
       "    </tr>\n",
       "    <tr>\n",
       "      <th>std</th>\n",
       "      <td>8.965932</td>\n",
       "      <td>5.119872</td>\n",
       "      <td>1.703572</td>\n",
       "      <td>45.944423</td>\n",
       "    </tr>\n",
       "    <tr>\n",
       "      <th>min</th>\n",
       "      <td>-31.609576</td>\n",
       "      <td>-26.358598</td>\n",
       "      <td>-0.018144</td>\n",
       "      <td>0.000000</td>\n",
       "    </tr>\n",
       "    <tr>\n",
       "      <th>25%</th>\n",
       "      <td>-6.298551</td>\n",
       "      <td>-8.267985</td>\n",
       "      <td>1.000021</td>\n",
       "      <td>26.953261</td>\n",
       "    </tr>\n",
       "    <tr>\n",
       "      <th>50%</th>\n",
       "      <td>1.153055</td>\n",
       "      <td>-4.813172</td>\n",
       "      <td>2.011479</td>\n",
       "      <td>57.085625</td>\n",
       "    </tr>\n",
       "    <tr>\n",
       "      <th>75%</th>\n",
       "      <td>8.621015</td>\n",
       "      <td>-1.332816</td>\n",
       "      <td>3.999904</td>\n",
       "      <td>107.813044</td>\n",
       "    </tr>\n",
       "    <tr>\n",
       "      <th>max</th>\n",
       "      <td>29.421755</td>\n",
       "      <td>18.734063</td>\n",
       "      <td>5.019721</td>\n",
       "      <td>137.945408</td>\n",
       "    </tr>\n",
       "  </tbody>\n",
       "</table>\n",
       "</div>"
      ],
      "text/plain": [
       "                  f0             f1             f2        product\n",
       "count  100000.000000  100000.000000  100000.000000  100000.000000\n",
       "mean        1.141296      -4.796579       2.494541      68.825000\n",
       "std         8.965932       5.119872       1.703572      45.944423\n",
       "min       -31.609576     -26.358598      -0.018144       0.000000\n",
       "25%        -6.298551      -8.267985       1.000021      26.953261\n",
       "50%         1.153055      -4.813172       2.011479      57.085625\n",
       "75%         8.621015      -1.332816       3.999904     107.813044\n",
       "max        29.421755      18.734063       5.019721     137.945408"
      ]
     },
     "metadata": {},
     "output_type": "display_data"
    },
    {
     "name": "stdout",
     "output_type": "stream",
     "text": [
      "<class 'pandas.core.frame.DataFrame'>\n",
      "RangeIndex: 100000 entries, 0 to 99999\n",
      "Data columns (total 5 columns):\n",
      " #   Column   Non-Null Count   Dtype  \n",
      "---  ------   --------------   -----  \n",
      " 0   id       100000 non-null  object \n",
      " 1   f0       100000 non-null  float64\n",
      " 2   f1       100000 non-null  float64\n",
      " 3   f2       100000 non-null  float64\n",
      " 4   product  100000 non-null  float64\n",
      "dtypes: float64(4), object(1)\n",
      "memory usage: 3.8+ MB\n"
     ]
    },
    {
     "data": {
      "text/plain": [
       "None"
      ]
     },
     "metadata": {},
     "output_type": "display_data"
    },
    {
     "data": {
      "text/html": [
       "<div>\n",
       "<style scoped>\n",
       "    .dataframe tbody tr th:only-of-type {\n",
       "        vertical-align: middle;\n",
       "    }\n",
       "\n",
       "    .dataframe tbody tr th {\n",
       "        vertical-align: top;\n",
       "    }\n",
       "\n",
       "    .dataframe thead th {\n",
       "        text-align: right;\n",
       "    }\n",
       "</style>\n",
       "<table border=\"1\" class=\"dataframe\">\n",
       "  <thead>\n",
       "    <tr style=\"text-align: right;\">\n",
       "      <th></th>\n",
       "      <th>id</th>\n",
       "      <th>f0</th>\n",
       "      <th>f1</th>\n",
       "      <th>f2</th>\n",
       "      <th>product</th>\n",
       "    </tr>\n",
       "  </thead>\n",
       "  <tbody>\n",
       "    <tr>\n",
       "      <th>0</th>\n",
       "      <td>fwXo0</td>\n",
       "      <td>-1.146987</td>\n",
       "      <td>0.963328</td>\n",
       "      <td>-0.828965</td>\n",
       "      <td>27.758673</td>\n",
       "    </tr>\n",
       "    <tr>\n",
       "      <th>1</th>\n",
       "      <td>WJtFt</td>\n",
       "      <td>0.262778</td>\n",
       "      <td>0.269839</td>\n",
       "      <td>-2.530187</td>\n",
       "      <td>56.069697</td>\n",
       "    </tr>\n",
       "    <tr>\n",
       "      <th>2</th>\n",
       "      <td>ovLUW</td>\n",
       "      <td>0.194587</td>\n",
       "      <td>0.289035</td>\n",
       "      <td>-5.586433</td>\n",
       "      <td>62.871910</td>\n",
       "    </tr>\n",
       "    <tr>\n",
       "      <th>3</th>\n",
       "      <td>q6cA6</td>\n",
       "      <td>2.236060</td>\n",
       "      <td>-0.553760</td>\n",
       "      <td>0.930038</td>\n",
       "      <td>114.572842</td>\n",
       "    </tr>\n",
       "    <tr>\n",
       "      <th>4</th>\n",
       "      <td>WPMUX</td>\n",
       "      <td>-0.515993</td>\n",
       "      <td>1.716266</td>\n",
       "      <td>5.899011</td>\n",
       "      <td>149.600746</td>\n",
       "    </tr>\n",
       "  </tbody>\n",
       "</table>\n",
       "</div>"
      ],
      "text/plain": [
       "      id        f0        f1        f2     product\n",
       "0  fwXo0 -1.146987  0.963328 -0.828965   27.758673\n",
       "1  WJtFt  0.262778  0.269839 -2.530187   56.069697\n",
       "2  ovLUW  0.194587  0.289035 -5.586433   62.871910\n",
       "3  q6cA6  2.236060 -0.553760  0.930038  114.572842\n",
       "4  WPMUX -0.515993  1.716266  5.899011  149.600746"
      ]
     },
     "metadata": {},
     "output_type": "display_data"
    },
    {
     "data": {
      "text/html": [
       "<div>\n",
       "<style scoped>\n",
       "    .dataframe tbody tr th:only-of-type {\n",
       "        vertical-align: middle;\n",
       "    }\n",
       "\n",
       "    .dataframe tbody tr th {\n",
       "        vertical-align: top;\n",
       "    }\n",
       "\n",
       "    .dataframe thead th {\n",
       "        text-align: right;\n",
       "    }\n",
       "</style>\n",
       "<table border=\"1\" class=\"dataframe\">\n",
       "  <thead>\n",
       "    <tr style=\"text-align: right;\">\n",
       "      <th></th>\n",
       "      <th>f0</th>\n",
       "      <th>f1</th>\n",
       "      <th>f2</th>\n",
       "      <th>product</th>\n",
       "    </tr>\n",
       "  </thead>\n",
       "  <tbody>\n",
       "    <tr>\n",
       "      <th>count</th>\n",
       "      <td>100000.000000</td>\n",
       "      <td>100000.000000</td>\n",
       "      <td>100000.000000</td>\n",
       "      <td>100000.000000</td>\n",
       "    </tr>\n",
       "    <tr>\n",
       "      <th>mean</th>\n",
       "      <td>0.002023</td>\n",
       "      <td>-0.002081</td>\n",
       "      <td>2.495128</td>\n",
       "      <td>95.000000</td>\n",
       "    </tr>\n",
       "    <tr>\n",
       "      <th>std</th>\n",
       "      <td>1.732045</td>\n",
       "      <td>1.730417</td>\n",
       "      <td>3.473445</td>\n",
       "      <td>44.749921</td>\n",
       "    </tr>\n",
       "    <tr>\n",
       "      <th>min</th>\n",
       "      <td>-8.760004</td>\n",
       "      <td>-7.084020</td>\n",
       "      <td>-11.970335</td>\n",
       "      <td>0.000000</td>\n",
       "    </tr>\n",
       "    <tr>\n",
       "      <th>25%</th>\n",
       "      <td>-1.162288</td>\n",
       "      <td>-1.174820</td>\n",
       "      <td>0.130359</td>\n",
       "      <td>59.450441</td>\n",
       "    </tr>\n",
       "    <tr>\n",
       "      <th>50%</th>\n",
       "      <td>0.009424</td>\n",
       "      <td>-0.009482</td>\n",
       "      <td>2.484236</td>\n",
       "      <td>94.925613</td>\n",
       "    </tr>\n",
       "    <tr>\n",
       "      <th>75%</th>\n",
       "      <td>1.158535</td>\n",
       "      <td>1.163678</td>\n",
       "      <td>4.858794</td>\n",
       "      <td>130.595027</td>\n",
       "    </tr>\n",
       "    <tr>\n",
       "      <th>max</th>\n",
       "      <td>7.238262</td>\n",
       "      <td>7.844801</td>\n",
       "      <td>16.739402</td>\n",
       "      <td>190.029838</td>\n",
       "    </tr>\n",
       "  </tbody>\n",
       "</table>\n",
       "</div>"
      ],
      "text/plain": [
       "                  f0             f1             f2        product\n",
       "count  100000.000000  100000.000000  100000.000000  100000.000000\n",
       "mean        0.002023      -0.002081       2.495128      95.000000\n",
       "std         1.732045       1.730417       3.473445      44.749921\n",
       "min        -8.760004      -7.084020     -11.970335       0.000000\n",
       "25%        -1.162288      -1.174820       0.130359      59.450441\n",
       "50%         0.009424      -0.009482       2.484236      94.925613\n",
       "75%         1.158535       1.163678       4.858794     130.595027\n",
       "max         7.238262       7.844801      16.739402     190.029838"
      ]
     },
     "metadata": {},
     "output_type": "display_data"
    },
    {
     "name": "stdout",
     "output_type": "stream",
     "text": [
      "<class 'pandas.core.frame.DataFrame'>\n",
      "RangeIndex: 100000 entries, 0 to 99999\n",
      "Data columns (total 5 columns):\n",
      " #   Column   Non-Null Count   Dtype  \n",
      "---  ------   --------------   -----  \n",
      " 0   id       100000 non-null  object \n",
      " 1   f0       100000 non-null  float64\n",
      " 2   f1       100000 non-null  float64\n",
      " 3   f2       100000 non-null  float64\n",
      " 4   product  100000 non-null  float64\n",
      "dtypes: float64(4), object(1)\n",
      "memory usage: 3.8+ MB\n"
     ]
    },
    {
     "data": {
      "text/plain": [
       "None"
      ]
     },
     "metadata": {},
     "output_type": "display_data"
    }
   ],
   "source": [
    "display(data_1.head())\n",
    "display(data_1.describe())\n",
    "display(data_1.info())\n",
    "\n",
    "\n",
    "display(data_2.head())\n",
    "display(data_2.describe())\n",
    "display(data_2.info())\n",
    "\n",
    "display(data_3.head())\n",
    "display(data_3.describe())\n",
    "display(data_3.info())"
   ]
  },
  {
   "cell_type": "markdown",
   "metadata": {},
   "source": [
    "В целом, данные выглядят чистыми, осталось только оценить наличие дубликатов."
   ]
  },
  {
   "cell_type": "code",
   "execution_count": 4,
   "metadata": {},
   "outputs": [
    {
     "name": "stdout",
     "output_type": "stream",
     "text": [
      "Кол-во дубликатов в наборах данных: первый: 0 второй: 0 третий: 0\n"
     ]
    }
   ],
   "source": [
    "print('Кол-во дубликатов в наборах данных: первый:', data_1.duplicated().sum(), \\\n",
    "          'второй:', data_2.duplicated().sum(), \\\n",
    "          'третий:', data_3.duplicated().sum())"
   ]
  },
  {
   "cell_type": "markdown",
   "metadata": {},
   "source": [
    "### Обработка оригинальных данных"
   ]
  },
  {
   "cell_type": "markdown",
   "metadata": {},
   "source": [
    "Пропусков и дубликатов в данных нет, столбец `id` в каждом из наборов не несёт информационной нагрузки для обучения модели, его нужно удалить."
   ]
  },
  {
   "cell_type": "code",
   "execution_count": 5,
   "metadata": {},
   "outputs": [],
   "source": [
    "data_1 = data_1.drop(['id'], axis=1)\n",
    "data_2 = data_2.drop(['id'], axis=1)\n",
    "data_3 = data_3.drop(['id'], axis=1)"
   ]
  },
  {
   "cell_type": "markdown",
   "metadata": {},
   "source": [
    "Так как одним из основных параметров является объём запасов нефти в скважине, то хорошо бы визуализировать распределение данного показателя для каждого набора данных."
   ]
  },
  {
   "cell_type": "code",
   "execution_count": 6,
   "metadata": {},
   "outputs": [],
   "source": [
    "# функция для построения гистограммы по указанному столбцу\n",
    "# принимает столбец, кол-во корзин и ограничения осей\n",
    "def hist(seria, bins, xlim_max, ylim_max):\n",
    "    plt.figure(figsize=[12,9])\n",
    "\n",
    "    plt.hist(seria, bins=bins)\n",
    "\n",
    "    plt.xlim([0,xlim_max])\n",
    "    plt.ylim([0,ylim_max])\n",
    "\n",
    "    plt.xlabel(\"Объем нефти на скважину, тыс. барелей\")\n",
    "    plt.ylabel(\"Количество скважин\")\n",
    "\n",
    "    plt.title(\"Гистограмма распределения по объему скважин\")\n",
    "    plt.show()"
   ]
  },
  {
   "cell_type": "code",
   "execution_count": 7,
   "metadata": {},
   "outputs": [
    {
     "data": {
      "image/png": "[encoded data removed]",
      "text/plain": [
       "<Figure size 864x648 with 1 Axes>"
      ]
     },
     "metadata": {
      "needs_background": "light"
     },
     "output_type": "display_data"
    }
   ],
   "source": [
    "hist(data_1['product'], 200, 190, 1000)"
   ]
  },
  {
   "cell_type": "code",
   "execution_count": 8,
   "metadata": {},
   "outputs": [
    {
     "data": {
      "image/png": "[encoded data removed]",
      "text/plain": [
       "<Figure size 864x648 with 1 Axes>"
      ]
     },
     "metadata": {
      "needs_background": "light"
     },
     "output_type": "display_data"
    }
   ],
   "source": [
    "hist(data_2['product'], 200, 190, 1000)"
   ]
  },
  {
   "cell_type": "code",
   "execution_count": 9,
   "metadata": {},
   "outputs": [
    {
     "data": {
      "image/png": "[encoded data removed]",
      "text/plain": [
       "<Figure size 864x648 with 1 Axes>"
      ]
     },
     "metadata": {
      "needs_background": "light"
     },
     "output_type": "display_data"
    }
   ],
   "source": [
    "hist(data_3['product'], 200, 190, 1000)"
   ]
  },
  {
   "cell_type": "markdown",
   "metadata": {},
   "source": [
    "Вот это поворот! В втором наборе для интересующего нас показателя имеются неполные данные в большом количестве.  \n",
    "Необходимо точно понимать кол-во имеющихся данных и постараться понять причину сложившейся ситуации."
   ]
  },
  {
   "cell_type": "markdown",
   "metadata": {},
   "source": [
    "Согласно графику и инф-и, полученной из первичных аналитических сведений, колонка `product` заполнена непустыми значениями, скорее всего это нули. Давайте проверим эту теорию и посчитаем кол-во нулей."
   ]
  },
  {
   "cell_type": "code",
   "execution_count": 10,
   "metadata": {},
   "outputs": [],
   "source": [
    "# функция подсчёта нулей в значениях указанного столбца\n",
    "def zeros_count(df, column):\n",
    "    zeros = df[df[column] == 0][column].count()\n",
    "    percent = zeros / df.shape[0]\n",
    "    print('Количество нулевых значений:', zeros)\n",
    "    print('Процент нулевых значений от общего числа строк:', percent)"
   ]
  },
  {
   "cell_type": "code",
   "execution_count": 11,
   "metadata": {},
   "outputs": [
    {
     "name": "stdout",
     "output_type": "stream",
     "text": [
      "Количество нулевых значений: 1\n",
      "Процент нулевых значений от общего числа строк: 1e-05\n"
     ]
    }
   ],
   "source": [
    "zeros_count(data_1, 'product')"
   ]
  },
  {
   "cell_type": "code",
   "execution_count": 12,
   "metadata": {},
   "outputs": [
    {
     "name": "stdout",
     "output_type": "stream",
     "text": [
      "Количество нулевых значений: 8235\n",
      "Процент нулевых значений от общего числа строк: 0.08235\n"
     ]
    }
   ],
   "source": [
    "zeros_count(data_2, 'product')"
   ]
  },
  {
   "cell_type": "code",
   "execution_count": 13,
   "metadata": {},
   "outputs": [
    {
     "name": "stdout",
     "output_type": "stream",
     "text": [
      "Количество нулевых значений: 1\n",
      "Процент нулевых значений от общего числа строк: 1e-05\n"
     ]
    }
   ],
   "source": [
    "zeros_count(data_3, 'product')"
   ]
  },
  {
   "cell_type": "code",
   "execution_count": 14,
   "metadata": {},
   "outputs": [
    {
     "data": {
      "image/png": "[encoded data removed]",
      "text/plain": [
       "<Figure size 864x648 with 1 Axes>"
      ]
     },
     "metadata": {
      "needs_background": "light"
     },
     "output_type": "display_data"
    }
   ],
   "source": [
    "# поиграем немного с масштабом гистограммы, путём изменения параметров \n",
    "hist(data_2['product'], 50, 150, 10000)"
   ]
  },
  {
   "cell_type": "markdown",
   "metadata": {},
   "source": [
    "### Выводы:  \n",
    "Проанализировав имеющиеся данные, стало понятно, что `f0, f1, f2` - пространство признаков будущей модели, `product` - целевой признак.  \n",
    "\n",
    "Во втором наборе данных около 8.2% значений целевого признака равно 0. При этом, сравнивая распределение признаков по наборам данных, заметно, что у первого и третьего наборов имеются признаки нормального распределения. В свою очередь у второго набора распределение выглядит искусственным. В связи с чем причиной нулевых значений могут быть неисследованность или намеренная фальсификация.  \n",
    "\n",
    "**Данные готовы к обучению**"
   ]
  },
  {
   "cell_type": "markdown",
   "metadata": {},
   "source": [
    "<div class=\"alert alert-block alert-success\">\n",
    "<b>Успех:</b> Данные осмотрены, но можно было бы еще как минимум изучить корреляции, так как мы планируем использовать линейные модели, а для них это важно. \n",
    "</div>\n",
    "\n",
    "\n",
    "<div class=\"alert alert-block alert-info\">\n",
    "<b>Совет:</b>  Советую обратить внимание на библиотеки sweetviz и pandas_profiling помогут в проведении более тщательного EDA анализа. Исследовательский анализ можно делать и с помощью ручного вызова функций дефолтных библиотек. Данные библиотеки хороши для максимизации комфорта презентации результатов анализа бизнес-пользователям.  \n",
    "\n",
    "Очень просты в использоовании, на вход кладется датафрейм: pandas_profiling.ProfileReport(df) \n",
    "</div>\n"
   ]
  },
  {
   "cell_type": "markdown",
   "metadata": {},
   "source": [
    "<div class=\"alert alert-block alert-warning\">\n",
    "<b>Спасибо за совет, почитаю инфорамцию об указанных библиотеках</b>\n",
    "</div>"
   ]
  },
  {
   "cell_type": "markdown",
   "metadata": {},
   "source": [
    "## Обучение и проверка модели"
   ]
  },
  {
   "cell_type": "markdown",
   "metadata": {},
   "source": [
    "### Формирование и подготовка выборок"
   ]
  },
  {
   "cell_type": "code",
   "execution_count": 15,
   "metadata": {},
   "outputs": [],
   "source": [
    "# функция разбивки датафрейма на выборки\n",
    "def data_split(df, target):\n",
    "    features = df.drop([target] , axis=1)\n",
    "    target = df[target]\n",
    "\n",
    "    features_train, features_valid, target_train, target_valid = train_test_split(\n",
    "        features, target, test_size=0.25, random_state=12345)\n",
    "    \n",
    "    return features_train, features_valid, target_train, target_valid"
   ]
  },
  {
   "cell_type": "code",
   "execution_count": 16,
   "metadata": {},
   "outputs": [],
   "source": [
    "# функция для разбивки фрейма на масштабированные выборки\n",
    "def data_split_scale(df, numeric, target):\n",
    "    df_copy = df.copy()\n",
    "    \n",
    "    # сразу делим на обучающую и валидационную выборки\n",
    "    train, valid = train_test_split(df_copy, test_size=0.25, random_state=12345)\n",
    "    \n",
    "    # обучаем скалер\n",
    "    scaler = StandardScaler()\n",
    "    scaler.fit(train[numeric])\n",
    "    \n",
    "    # масштабируем выборки\n",
    "    train[numeric] = scaler.transform(train[numeric])\n",
    "    valid[numeric] = scaler.transform(valid[numeric])\n",
    "    \n",
    "    # формируем пространство признаков и целевой признак\n",
    "    features_train_s = train.drop([target], axis=1)\n",
    "    target_train_s = train[target]\n",
    "    features_valid_s = valid.drop([target], axis=1)\n",
    "    target_valid_s = valid[target]\n",
    "\n",
    "    return features_train_s, features_valid_s, target_train_s, target_valid_s"
   ]
  },
  {
   "cell_type": "markdown",
   "metadata": {},
   "source": [
    "<div class=\"alert alert-block alert-success\">\n",
    "<b>Успех:</b> Масштабирование проведено корректно\n",
    "</div\n"
   ]
  },
  {
   "cell_type": "markdown",
   "metadata": {},
   "source": [
    "### Проверкаа необходимости масштабирования оригинальных данных"
   ]
  },
  {
   "cell_type": "code",
   "execution_count": 17,
   "metadata": {},
   "outputs": [],
   "source": [
    "# сохраняем модель в переменную\n",
    "model = LinearRegression()"
   ]
  },
  {
   "cell_type": "code",
   "execution_count": 18,
   "metadata": {},
   "outputs": [
    {
     "name": "stdout",
     "output_type": "stream",
     "text": [
      "data 1 RMSE - 37.5794217150813\n"
     ]
    }
   ],
   "source": [
    "# обучение модели на неизмененных данных и выведем среднеквадратичную ошибку\n",
    "features_train_1, features_valid_1, target_train_1, target_valid_1 = data_split(data_1, 'product')\n",
    "\n",
    "model.fit(features_train_1, target_train_1)\n",
    "predicted_target_1 = model.predict(features_valid_1)\n",
    "print('data 1 RMSE -', mean_squared_error(target_valid_1, predicted_target_1) ** 0.5)"
   ]
  },
  {
   "cell_type": "code",
   "execution_count": 19,
   "metadata": {},
   "outputs": [
    {
     "name": "stdout",
     "output_type": "stream",
     "text": [
      "data 1 RMSE scaled - 37.5794217150813\n"
     ]
    }
   ],
   "source": [
    "# обучение модели на маштабированных данных и выведем среднеквадратичную ошибку\n",
    "numeric = ['f0', 'f1', 'f2']\n",
    "features_train_1s, features_valid_1s, target_train_1s, target_valid_1s = data_split_scale(data_1, numeric, 'product')\n",
    "\n",
    "model.fit(features_train_1s, target_train_1s)\n",
    "\n",
    "predicted_target_1s = model.predict(features_valid_1s)\n",
    "print('data 1 RMSE scaled -', mean_squared_error(target_valid_1s, predicted_target_1s) ** 0.5)"
   ]
  },
  {
   "cell_type": "markdown",
   "metadata": {},
   "source": [
    "Как видно по результатам расчёта RMSE, масштабирование данных никак не повлияло на результат. Можно предположить, что аналогичный результат будет и для двух других выборок. Проверим"
   ]
  },
  {
   "cell_type": "code",
   "execution_count": 20,
   "metadata": {},
   "outputs": [
    {
     "name": "stdout",
     "output_type": "stream",
     "text": [
      "data 2 RMSE - 0.893099286775617\n"
     ]
    }
   ],
   "source": [
    "features_train_2, features_valid_2, target_train_2, target_valid_2 = data_split(data_2, 'product')\n",
    "\n",
    "model.fit(features_train_2, target_train_2)\n",
    "predicted_target_2 = model.predict(features_valid_2)\n",
    "print('data 2 RMSE -', mean_squared_error(target_valid_2, predicted_target_2) ** 0.5)"
   ]
  },
  {
   "cell_type": "code",
   "execution_count": 21,
   "metadata": {},
   "outputs": [
    {
     "name": "stdout",
     "output_type": "stream",
     "text": [
      "data 2 RMSE scaled - 0.893099286775617\n"
     ]
    }
   ],
   "source": [
    "numeric = ['f0', 'f1', 'f2']\n",
    "features_train_2s, features_valid_2s, target_train_2s, target_valid_2s = data_split_scale(data_2, numeric, 'product')\n",
    "\n",
    "model.fit(features_train_2s, target_train_2s)\n",
    "\n",
    "predicted_target_2s = model.predict(features_valid_2s)\n",
    "print('data 2 RMSE scaled -', mean_squared_error(target_valid_2s, predicted_target_2s) ** 0.5)"
   ]
  },
  {
   "cell_type": "code",
   "execution_count": 22,
   "metadata": {},
   "outputs": [
    {
     "name": "stdout",
     "output_type": "stream",
     "text": [
      "data 3 RMSE - 40.02970873393434\n"
     ]
    }
   ],
   "source": [
    "features_train_3, features_valid_3, target_train_3, target_valid_3 = data_split(data_3, 'product')\n",
    "\n",
    "model.fit(features_train_3, target_train_3)\n",
    "predicted_target_3 = model.predict(features_valid_3)\n",
    "print('data 3 RMSE -', mean_squared_error(target_valid_3, predicted_target_3) ** 0.5)"
   ]
  },
  {
   "cell_type": "code",
   "execution_count": 23,
   "metadata": {},
   "outputs": [
    {
     "name": "stdout",
     "output_type": "stream",
     "text": [
      "data 3 RMSE scaled - 40.02970873393434\n"
     ]
    }
   ],
   "source": [
    "numeric = ['f0', 'f1', 'f2']\n",
    "features_train_3s, features_valid_3s, target_train_3s, target_valid_3s = data_split_scale(data_3, numeric, 'product')\n",
    "\n",
    "model.fit(features_train_3s, target_train_3s)\n",
    "\n",
    "predicted_target_3s = model.predict(features_valid_3s)\n",
    "print('data 3 RMSE scaled -', mean_squared_error(target_valid_3s, predicted_target_3s) ** 0.5)"
   ]
  },
  {
   "cell_type": "markdown",
   "metadata": {},
   "source": [
    "Результат расчётов подтвердил наше предположение - масштабирование оригинальных данных не требуется.  "
   ]
  },
  {
   "cell_type": "markdown",
   "metadata": {},
   "source": [
    "<div class=\"alert alert-block alert-success\">\n",
    "<b>Успех:</b> Согласен\n",
    "</div\n"
   ]
  },
  {
   "cell_type": "markdown",
   "metadata": {},
   "source": [
    "### Улучшение показателей предсказания модели за счёт подбора гиперпараметров"
   ]
  },
  {
   "cell_type": "markdown",
   "metadata": {},
   "source": [
    "Можно попробовать улучшить показтели работы модели за счёт изменения её гиперпараметров."
   ]
  },
  {
   "cell_type": "code",
   "execution_count": 24,
   "metadata": {},
   "outputs": [
    {
     "name": "stdout",
     "output_type": "stream",
     "text": [
      "data 1 LR_norm RMSE - 37.5794217150813\n",
      "data 1 LR_interc RMSE - 60.4397122136312\n"
     ]
    }
   ],
   "source": [
    "# так как линейная регрессия - достаточно простая модель, то обладает небольшим кол-ом гиперпараметров\n",
    "# default normalize=False\n",
    "model = LinearRegression(normalize=True)\n",
    "model.fit(features_train_1, target_train_1)\n",
    "predicted_target_1 = model.predict(features_valid_1)\n",
    "print('data 1 LR_norm RMSE -', mean_squared_error(target_valid_1, predicted_target_1) ** 0.5)\n",
    "\n",
    "# default fit_intercept = True\n",
    "model = LinearRegression(fit_intercept=False)\n",
    "model.fit(features_train_1, target_train_1)\n",
    "predicted_target_1 = model.predict(features_valid_1)\n",
    "print('data 1 LR_interc RMSE -', mean_squared_error(target_valid_1, predicted_target_1) ** 0.5)"
   ]
  },
  {
   "cell_type": "markdown",
   "metadata": {},
   "source": [
    "Как видно по результатам, изменение гиперпараметров если и оказывает влияние на качество работы модели, то отрицательное."
   ]
  },
  {
   "cell_type": "markdown",
   "metadata": {},
   "source": [
    "### Предсказание запасов сырья"
   ]
  },
  {
   "cell_type": "markdown",
   "metadata": {},
   "source": [
    "Для будущих расчётов прибыли и рисков необходимо оценить имеющиеся запасы по каждой скважине и суммарный запас в регионе "
   ]
  },
  {
   "cell_type": "code",
   "execution_count": 25,
   "metadata": {},
   "outputs": [],
   "source": [
    "# функция расчёта предсказанного запаса, сравнения с реальным и расчёта RMSE\n",
    "model = LinearRegression()\n",
    "\n",
    "def predict_stock(df, target_name):\n",
    "    features = df.drop([target_name] , axis=1)\n",
    "    target = df[target_name]\n",
    "    \n",
    "    features_train, features_valid, target_train, target_valid = train_test_split(\n",
    "        features, target, test_size=0.25, random_state=12345)\n",
    "    \n",
    "    model.fit(features_train, target_train)\n",
    "    target_predicted = model.predict(features_valid)\n",
    "    \n",
    "    # формируем словарь, чтобы позже сформировать новый набор данных из рассчитанных значений\n",
    "    data = {'real_product' : target_valid,\n",
    "            'predicted_product' : target_predicted         \n",
    "    }\n",
    "    \n",
    "    data_frame = pd.DataFrame(data, columns = ['real_product', 'predicted_product'])\n",
    "    rmse = mean_squared_error(target_valid, target_predicted) ** 0.5\n",
    "    oil_mean = data_frame['predicted_product'].mean()\n",
    "    oil_sum = data_frame['predicted_product'].sum()\n",
    "    \n",
    "    return data_frame, rmse, oil_mean, oil_sum"
   ]
  },
  {
   "cell_type": "code",
   "execution_count": 26,
   "metadata": {},
   "outputs": [
    {
     "name": "stdout",
     "output_type": "stream",
     "text": [
      "data 1\n",
      "       real_product  predicted_product\n",
      "71751     10.038645          95.894952\n",
      "80493    114.551489          77.572583\n",
      "2655     132.603635          77.892640\n",
      "53233    169.072125          90.175134\n",
      "91141    122.325180          70.510088\n",
      "RMSE - 37.5794217150813\n",
      "Средний запас сырья - 92.59256778438035\n"
     ]
    }
   ],
   "source": [
    "data_1_predicted, data_1_rmse, data_1_predicted_mean, data_1_predicted_sum = predict_stock(data_1, 'product')\n",
    "print('data 1')\n",
    "print(data_1_predicted.head())\n",
    "print('RMSE -', data_1_rmse)\n",
    "print('Средний запас сырья -', data_1_predicted_mean)"
   ]
  },
  {
   "cell_type": "code",
   "execution_count": 27,
   "metadata": {},
   "outputs": [
    {
     "name": "stdout",
     "output_type": "stream",
     "text": [
      "data 2\n",
      "       real_product  predicted_product\n",
      "71751     80.859783          82.663314\n",
      "80493     53.906522          54.431786\n",
      "2655      30.132364          29.748760\n",
      "53233     53.906522          53.552133\n",
      "91141      0.000000           1.243856\n",
      "RMSE - 0.893099286775617\n",
      "Средний запас сырья - 68.728546895446\n"
     ]
    }
   ],
   "source": [
    "data_2_predicted, data_2_rmse, data_2_predicted_mean, data_2_predicted_sum = predict_stock(data_2, 'product')\n",
    "print('data 2')\n",
    "print(data_2_predicted.head())\n",
    "print('RMSE -', data_2_rmse)\n",
    "print('Средний запас сырья -', data_2_predicted_mean)"
   ]
  },
  {
   "cell_type": "code",
   "execution_count": 28,
   "metadata": {},
   "outputs": [
    {
     "name": "stdout",
     "output_type": "stream",
     "text": [
      "data 3\n",
      "       real_product  predicted_product\n",
      "71751     61.212375          93.599633\n",
      "80493     41.850118          75.105159\n",
      "2655      57.776581          90.066809\n",
      "53233    100.053761         105.162375\n",
      "91141    109.897122         115.303310\n",
      "RMSE - 40.02970873393434\n",
      "Средний запас сырья - 94.96504596800489\n"
     ]
    }
   ],
   "source": [
    "data_3_predicted, data_3_rmse, data_3_predicted_mean, data_3_predicted_sum = predict_stock(data_3, 'product')\n",
    "print('data 3')\n",
    "print(data_3_predicted.head())\n",
    "print('RMSE -', data_3_rmse)\n",
    "print('Средний запас сырья -', data_3_predicted_mean)"
   ]
  },
  {
   "cell_type": "code",
   "execution_count": 29,
   "metadata": {},
   "outputs": [
    {
     "name": "stdout",
     "output_type": "stream",
     "text": [
      "Суммарный предсказанный запас в регионе 0 - 2314814.194609509\n",
      "Суммарный реальный запас в регионе 0 - 2301964.918520732\n",
      "\n",
      "Суммарный предсказанный запас в регионе 1 - 1718213.67238615\n",
      "Суммарный реальный запас в регионе 1 - 1718078.4006089992\n",
      "\n",
      "Суммарный предсказанный запас в регионе 2 - 2374126.1492001223\n",
      "Суммарный реальный запас в регионе 2 - 2372105.8202213594\n"
     ]
    }
   ],
   "source": [
    "# для оценки общего запаса скважин в рамках региона, суммируем значения в рассчитанных датафреймах\n",
    "print('Суммарный предсказанный запас в регионе 0 -', data_1_predicted_sum)\n",
    "print('Суммарный реальный запас в регионе 0 -', data_1_predicted['real_product'].sum())\n",
    "print()\n",
    "print('Суммарный предсказанный запас в регионе 1 -', data_2_predicted_sum)\n",
    "print('Суммарный реальный запас в регионе 1 -', data_2_predicted['real_product'].sum())\n",
    "print()\n",
    "print('Суммарный предсказанный запас в регионе 2 -', data_3_predicted_sum)\n",
    "print('Суммарный реальный запас в регионе 2 -', data_3_predicted['real_product'].sum())"
   ]
  },
  {
   "cell_type": "markdown",
   "metadata": {},
   "source": [
    "### Выводы:  \n",
    "  1. Суммарные значения предсказанных объёмов примерно совпадают с суммарными фактическими результатами измерений;  \n",
    "  2. Лучше всего модель предсказала запасы во втором фрейме (RMSE - 0.893), далее в первом и третьем соотвественно. Скорее всего, утеряные данные из второго фрейма сказались на обучении модели, и она достаточно сильно переобучилась. Но из-за неполноты данных и в среднем малого запаса ресурсов (68.72) не имеет смысла рассматривать второй регион как прибыльное месторождение.  \n",
    "  \n",
    "Далее изучим все фреймы на риски и прибыль, но в конечном итоге будем выбирать между 1 и 3 фреймом."
   ]
  },
  {
   "cell_type": "markdown",
   "metadata": {},
   "source": [
    "\n",
    "<div class=\"alert alert-block alert-success\">\n",
    "<b>Успех:</b> Шаг проделан лаконично, все метрики посчитаны корректно\n",
    "</div> \n",
    "\n"
   ]
  },
  {
   "cell_type": "markdown",
   "metadata": {},
   "source": [
    "## Подготовка к расчёту прибыли"
   ]
  },
  {
   "cell_type": "markdown",
   "metadata": {},
   "source": [
    "В условиях задачи чётко указаны экономические параметры. Необходимо их сохранить в переменные."
   ]
  },
  {
   "cell_type": "code",
   "execution_count": 31,
   "metadata": {},
   "outputs": [],
   "source": [
    "# бюджет 10 млрд. рублей\n",
    "budget = 10 ** 10 \n",
    "# исследуем 500 точек\n",
    "chosen_points = 500 \n",
    "# с помощью модели отбираем 200 лучших\n",
    "best_points = 200\n",
    "# доход за 1000 баррель, за один баррель - 450\n",
    "income_per_barrel = 450000"
   ]
  },
  {
   "cell_type": "markdown",
   "metadata": {},
   "source": [
    "\n",
    "<div class=\"alert alert-block alert-info\">\n",
    "    \n",
    "<b>Совет:</b> Константы принято записывать в ВЕРХНЕМ РЕГИСТРЕ =) Читем здесь https://pythonworld.ru/osnovy/pep-8-rukovodstvo-po-napisaniyu-koda-na-python.html#section-29\n",
    "    \n",
    "А большие значение можно записывать так: `450_000`.\n",
    "</div> "
   ]
  },
  {
   "cell_type": "markdown",
   "metadata": {},
   "source": [
    "Расчитаем безубыточную разработку сырья на 200 скважинах.  \n",
    "Найдем среднее количество продукта в скважине, необходимое для безубыточной разработки."
   ]
  },
  {
   "cell_type": "code",
   "execution_count": 36,
   "metadata": {},
   "outputs": [
    {
     "name": "stdout",
     "output_type": "stream",
     "text": [
      "Необходимая средняя прибыль на лучшую точку - 50000.0 тыс.руб.\n",
      "Необходимый средний объем нефти на точку - 111.11111111111111 тыс. баррелей\n",
      "Необходимый средний объем нефти на регион - 22222.222222222223 тыс. баррелей\n"
     ]
    }
   ],
   "source": [
    "average_profit_per_point = budget / best_points\n",
    "print('Необходимая средняя прибыль на лучшую точку -', average_profit_per_point / 1000, 'тыс.руб.')\n",
    "\n",
    "average_barrels_per_point = average_profit_per_point  / income_per_barrel\n",
    "print('Необходимый средний объем нефти на точку -',average_barrels_per_point, 'тыс. баррелей')\n",
    "\n",
    "average_barrels = budget / income_per_barrel\n",
    "print('Необходимый средний объем нефти на регион -',average_barrels, 'тыс. баррелей')"
   ]
  },
  {
   "cell_type": "code",
   "execution_count": 37,
   "metadata": {},
   "outputs": [
    {
     "name": "stdout",
     "output_type": "stream",
     "text": [
      "Средний запас фактичекой нефти на скважину в 1 92.50000000000001\n",
      "Средний запас фактичекой нефти на скважину в 2 68.82500000000002\n",
      "Средний запас фактичекой нефти на скважину в 3 95.00000000000004\n"
     ]
    }
   ],
   "source": [
    "# фактические запасы\n",
    "print('Средний запас фактичекой нефти на скважину в 1', data_1['product'].mean())\n",
    "print('Средний запас фактичекой нефти на скважину в 2', data_2['product'].mean())\n",
    "print('Средний запас фактичекой нефти на скважину в 3', data_3['product'].mean())"
   ]
  },
  {
   "cell_type": "code",
   "execution_count": 42,
   "metadata": {},
   "outputs": [
    {
     "data": {
      "image/png": "[encoded data removed]",
      "text/plain": [
       "<Figure size 864x648 with 1 Axes>"
      ]
     },
     "metadata": {
      "needs_background": "light"
     },
     "output_type": "display_data"
    },
    {
     "data": {
      "image/png": "[encoded data removed]",
      "text/plain": [
       "<Figure size 864x648 with 1 Axes>"
      ]
     },
     "metadata": {
      "needs_background": "light"
     },
     "output_type": "display_data"
    },
    {
     "data": {
      "image/png": "[encoded data removed]",
      "text/plain": [
       "<Figure size 864x648 with 1 Axes>"
      ]
     },
     "metadata": {
      "needs_background": "light"
     },
     "output_type": "display_data"
    }
   ],
   "source": [
    "# проверим распределение предсказанных значений запасов по скважинам\n",
    "# оцениваем гистограммы с точки зрения расчитанных выше необходимых объёмов нефти\n",
    "hist(data_1_predicted['predicted_product'], 200, 190, 500)\n",
    "hist(data_2_predicted['predicted_product'], 20, 150, 5000)\n",
    "hist(data_3_predicted['predicted_product'], 200, 190, 500)"
   ]
  },
  {
   "cell_type": "markdown",
   "metadata": {},
   "source": [
    "### Выводы:  \n",
    "Анализ средних объемов на скважину для каждого региона следующий:\n",
    "  * Средний запас фактичекой нефти на скважину в 1 92.5;\n",
    "  * Средний запас фактичекой нефти на скважину в 2 68.825;\n",
    "  * Средний запас фактичекой нефти на скважину в 3 95.\n",
    "\n",
    "Изучены средние фактические запасы. Для первого и третьего - высокая вероятность окупить затраты. Разброс значений вокруг среднего 92.5 и 95 говорит нам о том, что существует достаточно много скважин, где запасы больше необходимого среднего.\n",
    "\n",
    "Во втором наборе данных возможно и есть определенный смысл для наших расчётов - значений больше требуемых 111 достаточно много и при определенной доли везения можно выбрать только лучшие в этой выборке, хотя и среднее значение 68.825."
   ]
  },
  {
   "cell_type": "markdown",
   "metadata": {},
   "source": [
    "<div class=\"alert alert-block alert-success\">\n",
    "<b>Успех:</b> Значение для безубыточной разработки посчитано верно, с выводом согласен  \n",
    "</div>"
   ]
  },
  {
   "cell_type": "markdown",
   "metadata": {},
   "source": [
    "## Расчёт прибыли и рисков "
   ]
  },
  {
   "cell_type": "code",
   "execution_count": 43,
   "metadata": {},
   "outputs": [],
   "source": [
    "# функция для расчета прибыли на 500 разведанных точек.\n",
    "def oil_profit_calculation(target, probabilities, count):\n",
    "    # сортируем вероятности по убыванию\n",
    "    probs_sorted = probabilities.sort_values(ascending=False)\n",
    "    # выбираем из отсортированных точек кол-во, соответствующее заданию\n",
    "    selected = target[probs_sorted.index][:count]\n",
    "    return income_per_barrel * selected.sum() - budget"
   ]
  },
  {
   "cell_type": "markdown",
   "metadata": {},
   "source": [
    "<div class=\"alert alert-block alert-success\">\n",
    "<b>Успех:</b> Ф-ция для подсчета прибыли определена верно\n",
    "</div>\n"
   ]
  },
  {
   "cell_type": "code",
   "execution_count": 44,
   "metadata": {},
   "outputs": [],
   "source": [
    "# функция для применения техники Bootstrap с 1000 выборок\n",
    "state = np.random.RandomState(12345)\n",
    "def bootstrap_1000(target, probs):\n",
    "    values=[]\n",
    "    lost = 0\n",
    "    for i in range(1000):\n",
    "        target_sample = target.sample(replace=True, random_state=state, n=chosen_points)\n",
    "        probs_sample = probs[target_sample.index]\n",
    "        profit = oil_profit_calculation(target, probs_sample, best_points)\n",
    "        if profit < 0:\n",
    "            lost +=1\n",
    "        values.append(profit)\n",
    "    \n",
    "    values = pd.Series(values)\n",
    "    lower = values.quantile(0.025)\n",
    "    upper = values.quantile(0.975)\n",
    "    average = values.mean()\n",
    "    risk = lost / 1000\n",
    "    return average, lower, upper, risk"
   ]
  },
  {
   "cell_type": "markdown",
   "metadata": {},
   "source": [
    "<div class=\"alert alert-block alert-success\">\n",
    "<b>Успех:</b> С бутстрапом тоже все в порядке, метрики считаются верным образом!  \n",
    "</div>\n",
    "\n",
    "<div class=\"alert alert-block alert-info\">\n",
    "<b>Совет: </b>\n",
    "    \n",
    "Риски можно лаконично считать в 1 строку: `(values < 0).mean() * 100`\n",
    "</div>                                                              \n"
   ]
  },
  {
   "cell_type": "markdown",
   "metadata": {},
   "source": [
    "<div class=\"alert alert-block alert-warning\">\n",
    "<b>Комментарий студента: </b>Действительно, спасибо\n",
    "</div>"
   ]
  },
  {
   "cell_type": "code",
   "execution_count": 46,
   "metadata": {},
   "outputs": [
    {
     "name": "stdout",
     "output_type": "stream",
     "text": [
      "Данные по первому региону.\n",
      "Средняя прибыль для региона = 391783.68 тыс.руб.\n",
      "95% доверительный интервал от -142969648.77 до 888569480.35 тыс.руб.\n",
      "Процент риска 7.00%\n"
     ]
    }
   ],
   "source": [
    "average_1, lower_1, upper_1, risk_1 = bootstrap_1000(data_1_predicted['real_product'], \n",
    "                                                     data_1_predicted['predicted_product'])\n",
    "print('Данные по первому региону.')\n",
    "print('Средняя прибыль для региона = {:.2f} тыс.руб.'.format(average_1/1000))\n",
    "print('95% доверительный интервал от {:.2f} до {:.2f} тыс.руб.'.format(lower_1, upper_1))\n",
    "print('Процент риска {:.2%}'.format(risk_1))"
   ]
  },
  {
   "cell_type": "code",
   "execution_count": 49,
   "metadata": {},
   "outputs": [
    {
     "name": "stdout",
     "output_type": "stream",
     "text": [
      "Данные по второму региону.\n",
      "Средняя прибыль для региона = 448275.29 тыс.руб.\n",
      "95% доверительный интервал от 50275475.26 до 836625980.88 тыс.руб.\n",
      "Процент риска 1.30%\n"
     ]
    }
   ],
   "source": [
    "average_2, lower_2, upper_2, risk_2 = bootstrap_1000(data_2_predicted['real_product'], \n",
    "                                                     data_2_predicted['predicted_product'])\n",
    "print('Данные по второму региону.')\n",
    "print('Средняя прибыль для региона = {:.2f} тыс.руб.'.format(average_2/1000))\n",
    "print('95% доверительный интервал от {:.2f} до {:.2f} тыс.руб.'.format(lower_2, upper_2))\n",
    "print('Процент риска {:.2%}'.format(risk_2))"
   ]
  },
  {
   "cell_type": "code",
   "execution_count": 50,
   "metadata": {},
   "outputs": [
    {
     "name": "stdout",
     "output_type": "stream",
     "text": [
      "Данные по второму региону.\n",
      "Средняя прибыль для региона = 382527.15 тыс.руб.\n",
      "95% доверительный интервал от -202065021.73 до 929888044.91 тыс.руб.\n",
      "Процент риска 9.40%\n"
     ]
    }
   ],
   "source": [
    "average_3, lower_3, upper_3, risk_3 = bootstrap_1000(data_3_predicted['real_product'], \n",
    "                                                     data_3_predicted['predicted_product'])\n",
    "print('Данные по второму региону.')\n",
    "print('Средняя прибыль для региона = {:.2f} тыс.руб.'.format(average_3/1000))\n",
    "print('95% доверительный интервал от {:.2f} до {:.2f} тыс.руб.'.format(lower_3, upper_3))\n",
    "print('Процент риска {:.2%}'.format(risk_3))"
   ]
  },
  {
   "cell_type": "markdown",
   "metadata": {},
   "source": [
    "### Выводы:  \n",
    "Мы отсеиваем первый и третий регион, так как риски относительно велики (7.0% и 9.4%).  \n",
    "Остается один единственный регион - второй. Его риск ниже требуемого (1.3%). Кроме того 95% доверительный интервал показывает, что даже при не слишком удачном выборе скважин разработка окупится."
   ]
  },
  {
   "cell_type": "markdown",
   "metadata": {},
   "source": [
    "\n",
    "<div class=\"alert alert-block alert-success\">\n",
    "<b>Успех:</b> Отлично, проведено детальное исследование и был выбран правильный регион!\n",
    "</div>"
   ]
  },
  {
   "cell_type": "markdown",
   "metadata": {},
   "source": [
    "# Общий вывод:   \n",
    "1) Изучины данные. Проведена подготовка данных к моделированию, были проведены проверка на дубликаты и пропущенные значения.  \n",
    "2) Составлена функция расчета прибыли в регионе. Посчитаны необходимые средние значения:\n",
    "  * Необходимая средняя прибыль на лучшую точку - 50000.0 тыс.руб.;\n",
    "  * Необходимый средний объем нефти на точку - 111.11111111111111 тыс. баррелей;\n",
    "  * Необходимый средний объем нефти на регион - 22222.222222222223 тыс. баррелей.  \n",
    "\n",
    "3) Посчитана прибыль и риски за каждый регион и обоснован выбор региона.   \n",
    "4) Второй регион получился одним из лучших по показателям предсказывания, хотя распределение данных не похоже на нормальное, что подталкивает к сомениям в корректности результата:  \n",
    "  * Средняя прибыль для региона = 448275.29 тыс.руб.  \n",
    "  * 95% доверительный интервал от 50275475.26 до 836625980.88 тыс.руб.  \n",
    "  * Процент риска 1.30%"
   ]
  },
  {
   "cell_type": "markdown",
   "metadata": {},
   "source": [
    "\n",
    "<div class=\"alert alert-block alert-success\">\n",
    "<b>Успех:</b> Всегда приятно наблюдать подробный и структурированный итоговый вывод в конце работы! \n",
    "</div>\n",
    "\n",
    "\n",
    "\n",
    "\n",
    "<div class=\"alert alert-block alert-info\">\n",
    "<b>Совет: </b> Если интересно изучить тему бутстрапа глубже - я оставлю  ниже несколько интересных и полезных ссылок по теме:\n",
    "        \n",
    "1. \"Bootstrap Hypothesis Testing in Statistics with Example\" \n",
    "        \n",
    "https://www.youtube.com/watch?v=9STZ7MxkNVg\n",
    "        \n",
    "2. \"How to Calculate Bootstrap Confidence Intervals For Machine Learning Results in Python\" \n",
    "        \n",
    "https://machinelearningmastery.com/calculate-bootstrap-confidence-intervals-machine-learning-results-python/\n",
    "        \n",
    "3. \"A Gentle Introduction to the Bootstrap Method\" \n",
    "\n",
    "https://machinelearningmastery.com/a-gentle-introduction-to-the-bootstrap-method/\n",
    "        \n",
    "4. \"An Introduction to the Bootstrap Method\" \n",
    "        \n",
    "https://towardsdatascience.com/an-introduction-to-the-bootstrap-method-58bcb51b4d60#:~:text=The%20basic%20idea%20of%20bootstrap,population%20mean)%20on%20sample%20data.&amp;text=A%20sample%20from%20population%20with%20sample%20size%20n\n",
    "        \n",
    "5. \"Bootstrapping and Resampling in Statistics with Example\" \n",
    "        \n",
    "        \n",
    "https://www.youtube.com/watch?v=O_Fj4q8lgmc\n",
    "\n",
    "6. Также одна из программ на рынке по этой теме управлненеческого моделирования - AnyLogic - интересный продукт. Можешь видео из интернета посмотреть по какому-нибудь примеру с её использованием. Тогда тема управленческого моделирования и бутстрапа может по-другому лечь.\n",
    "</div>\n"
   ]
  },
  {
   "cell_type": "markdown",
   "metadata": {},
   "source": [
    "<div class=\"alert alert-block alert-warning\">\n",
    "<b>Комментарий студента: </b>Спасибо, да, хочу чуть больше про это почитать.\n",
    "</div>"
   ]
  },
  {
   "cell_type": "markdown",
   "metadata": {},
   "source": [
    "## Чек-лист готовности проекта"
   ]
  },
  {
   "cell_type": "markdown",
   "metadata": {},
   "source": [
    "Поставьте 'x' в выполненных пунктах. Далее нажмите Shift+Enter."
   ]
  },
  {
   "cell_type": "markdown",
   "metadata": {},
   "source": [
    "- [x]  Jupyter Notebook открыт\n",
    "- [x]  Весь код выполняется без ошибок\n",
    "- [x]  Ячейки с кодом расположены в порядке исполнения\n",
    "- [x]  Выполнен шаг 1: данные подготовлены\n",
    "- [x]  Выполнен шаг 2: модели обучены и проверены\n",
    "    - [x]  Данные корректно разбиты на обучающую и валидационную выборки\n",
    "    - [x]  Модели обучены, предсказания сделаны\n",
    "    - [x]  Предсказания и правильные ответы на валидационной выборке сохранены\n",
    "    - [x]  На экране напечатаны результаты\n",
    "    - [x]  Сделаны выводы\n",
    "- [x]  Выполнен шаг 3: проведена подготовка к расчёту прибыли\n",
    "    - [x]  Для всех ключевых значений созданы константы Python\n",
    "    - [x]  Посчитано минимальное среднее количество продукта в месторождениях региона, достаточное для разработки\n",
    "    - [x]  По предыдущему пункту сделаны выводы\n",
    "    - [x]  Написана функция расчёта прибыли\n",
    "- [x]  Выполнен шаг 4: посчитаны риски и прибыль\n",
    "    - [x]  Проведена процедура *Bootstrap*\n",
    "    - [x]  Все параметры бутстрепа соответствуют условию\n",
    "    - [x]  Найдены все нужные величины\n",
    "    - [x]  Предложен регион для разработки месторождения\n",
    "    - [x]  Выбор региона обоснован"
   ]
  },
  {
   "cell_type": "code",
   "execution_count": null,
   "metadata": {},
   "outputs": [],
   "source": []
  }
 ],
 "metadata": {
  "ExecuteTimeLog": [
   {
    "duration": 1990,
    "start_time": "2023-04-05T18:06:46.056Z"
   },
   {
    "duration": 142,
    "start_time": "2023-04-05T18:20:49.763Z"
   },
   {
    "duration": 3,
    "start_time": "2023-04-05T18:21:15.525Z"
   },
   {
    "duration": 1442,
    "start_time": "2023-04-05T18:21:15.985Z"
   },
   {
    "duration": 10,
    "start_time": "2023-04-05T18:22:38.241Z"
   },
   {
    "duration": 461,
    "start_time": "2023-04-05T18:22:41.985Z"
   },
   {
    "duration": 141,
    "start_time": "2023-04-05T18:22:42.681Z"
   },
   {
    "duration": 128,
    "start_time": "2023-04-05T19:16:35.923Z"
   },
   {
    "duration": 164,
    "start_time": "2023-04-05T19:17:09.107Z"
   },
   {
    "duration": 221,
    "start_time": "2023-04-05T19:17:18.996Z"
   },
   {
    "duration": 19,
    "start_time": "2023-04-05T19:32:01.266Z"
   },
   {
    "duration": 39,
    "start_time": "2023-04-05T19:33:40.923Z"
   },
   {
    "duration": 107,
    "start_time": "2023-04-05T19:34:08.693Z"
   },
   {
    "duration": 128,
    "start_time": "2023-04-05T19:34:56.883Z"
   },
   {
    "duration": 49,
    "start_time": "2023-04-06T19:43:34.364Z"
   },
   {
    "duration": 1632,
    "start_time": "2023-04-06T19:43:41.272Z"
   },
   {
    "duration": 883,
    "start_time": "2023-04-06T19:43:42.907Z"
   },
   {
    "duration": 207,
    "start_time": "2023-04-06T19:43:43.792Z"
   },
   {
    "duration": 162,
    "start_time": "2023-04-06T19:43:44.001Z"
   },
   {
    "duration": 125,
    "start_time": "2023-04-06T19:43:44.165Z"
   },
   {
    "duration": 11,
    "start_time": "2023-04-06T19:45:32.844Z"
   },
   {
    "duration": 138,
    "start_time": "2023-04-06T19:45:48.189Z"
   },
   {
    "duration": 147,
    "start_time": "2023-04-06T19:45:55.411Z"
   },
   {
    "duration": 138,
    "start_time": "2023-04-06T19:46:08.244Z"
   },
   {
    "duration": 158,
    "start_time": "2023-04-06T19:47:02.603Z"
   },
   {
    "duration": 23,
    "start_time": "2023-04-06T20:07:52.517Z"
   },
   {
    "duration": 25,
    "start_time": "2023-04-06T20:09:10.469Z"
   },
   {
    "duration": 3,
    "start_time": "2023-04-06T20:47:39.623Z"
   },
   {
    "duration": 4,
    "start_time": "2023-04-06T20:47:44.294Z"
   },
   {
    "duration": 9,
    "start_time": "2023-04-06T20:47:45.376Z"
   },
   {
    "duration": 557,
    "start_time": "2023-04-06T20:48:00.517Z"
   },
   {
    "duration": 526,
    "start_time": "2023-04-06T20:52:28.564Z"
   },
   {
    "duration": 535,
    "start_time": "2023-04-06T20:52:40.125Z"
   },
   {
    "duration": 9,
    "start_time": "2023-04-07T08:28:23.489Z"
   },
   {
    "duration": 43,
    "start_time": "2023-04-07T08:35:48.834Z"
   },
   {
    "duration": 6,
    "start_time": "2023-04-07T08:35:49.316Z"
   },
   {
    "duration": 6,
    "start_time": "2023-04-07T08:35:49.694Z"
   },
   {
    "duration": 1520,
    "start_time": "2023-04-07T08:35:55.003Z"
   },
   {
    "duration": 943,
    "start_time": "2023-04-07T08:35:56.525Z"
   },
   {
    "duration": 214,
    "start_time": "2023-04-07T08:35:57.470Z"
   },
   {
    "duration": 156,
    "start_time": "2023-04-07T08:35:57.686Z"
   },
   {
    "duration": 24,
    "start_time": "2023-04-07T08:35:57.843Z"
   },
   {
    "duration": 4,
    "start_time": "2023-04-07T08:35:57.869Z"
   },
   {
    "duration": 436,
    "start_time": "2023-04-07T08:35:57.875Z"
   },
   {
    "duration": 424,
    "start_time": "2023-04-07T08:35:58.312Z"
   },
   {
    "duration": 521,
    "start_time": "2023-04-07T08:35:58.738Z"
   },
   {
    "duration": 4,
    "start_time": "2023-04-07T08:37:09.518Z"
   },
   {
    "duration": 394,
    "start_time": "2023-04-07T08:37:09.824Z"
   },
   {
    "duration": 385,
    "start_time": "2023-04-07T08:37:10.219Z"
   },
   {
    "duration": 494,
    "start_time": "2023-04-07T08:37:10.606Z"
   },
   {
    "duration": 4,
    "start_time": "2023-04-07T09:59:57.856Z"
   },
   {
    "duration": 102,
    "start_time": "2023-04-07T10:00:21.443Z"
   },
   {
    "duration": 6,
    "start_time": "2023-04-07T10:00:29.693Z"
   },
   {
    "duration": 7,
    "start_time": "2023-04-07T10:00:44.459Z"
   },
   {
    "duration": 3,
    "start_time": "2023-04-07T10:01:37.994Z"
   },
   {
    "duration": 5,
    "start_time": "2023-04-07T10:01:38.241Z"
   },
   {
    "duration": 5,
    "start_time": "2023-04-07T10:01:38.819Z"
   },
   {
    "duration": 4,
    "start_time": "2023-04-07T10:01:51.687Z"
   },
   {
    "duration": 4,
    "start_time": "2023-04-07T10:01:52.018Z"
   },
   {
    "duration": 6,
    "start_time": "2023-04-07T10:01:52.505Z"
   },
   {
    "duration": 5,
    "start_time": "2023-04-07T10:02:00.130Z"
   },
   {
    "duration": 11,
    "start_time": "2023-04-07T12:10:24.054Z"
   },
   {
    "duration": 42,
    "start_time": "2023-04-07T12:10:24.558Z"
   },
   {
    "duration": 6,
    "start_time": "2023-04-07T12:10:24.846Z"
   },
   {
    "duration": 1443,
    "start_time": "2023-04-07T12:10:31.234Z"
   },
   {
    "duration": 883,
    "start_time": "2023-04-07T12:10:32.680Z"
   },
   {
    "duration": 173,
    "start_time": "2023-04-07T12:10:33.565Z"
   },
   {
    "duration": 145,
    "start_time": "2023-04-07T12:10:33.740Z"
   },
   {
    "duration": 17,
    "start_time": "2023-04-07T12:10:33.887Z"
   },
   {
    "duration": 7,
    "start_time": "2023-04-07T12:10:33.906Z"
   },
   {
    "duration": 450,
    "start_time": "2023-04-07T12:10:33.915Z"
   },
   {
    "duration": 412,
    "start_time": "2023-04-07T12:10:34.368Z"
   },
   {
    "duration": 483,
    "start_time": "2023-04-07T12:10:34.782Z"
   },
   {
    "duration": 8,
    "start_time": "2023-04-07T12:10:35.267Z"
   },
   {
    "duration": 12,
    "start_time": "2023-04-07T12:10:35.277Z"
   },
   {
    "duration": 5,
    "start_time": "2023-04-07T12:10:35.291Z"
   },
   {
    "duration": 5,
    "start_time": "2023-04-07T12:10:35.297Z"
   },
   {
    "duration": 224,
    "start_time": "2023-04-07T12:14:33.776Z"
   },
   {
    "duration": 211,
    "start_time": "2023-04-07T12:14:40.133Z"
   },
   {
    "duration": 220,
    "start_time": "2023-04-07T12:14:46.016Z"
   },
   {
    "duration": 233,
    "start_time": "2023-04-07T12:14:51.910Z"
   },
   {
    "duration": 168,
    "start_time": "2023-04-07T12:14:56.222Z"
   },
   {
    "duration": 195,
    "start_time": "2023-04-07T12:34:49.488Z"
   },
   {
    "duration": 216,
    "start_time": "2023-04-07T12:34:59.591Z"
   },
   {
    "duration": 216,
    "start_time": "2023-04-07T12:35:58.095Z"
   },
   {
    "duration": 3,
    "start_time": "2023-04-07T19:27:19.894Z"
   },
   {
    "duration": 5,
    "start_time": "2023-04-07T19:27:54.034Z"
   },
   {
    "duration": 104,
    "start_time": "2023-04-07T19:28:23.080Z"
   },
   {
    "duration": 1196,
    "start_time": "2023-04-07T19:28:37.444Z"
   },
   {
    "duration": 330,
    "start_time": "2023-04-07T19:28:38.642Z"
   },
   {
    "duration": 156,
    "start_time": "2023-04-07T19:28:38.973Z"
   },
   {
    "duration": 125,
    "start_time": "2023-04-07T19:28:39.130Z"
   },
   {
    "duration": 20,
    "start_time": "2023-04-07T19:28:39.257Z"
   },
   {
    "duration": 3,
    "start_time": "2023-04-07T19:28:39.279Z"
   },
   {
    "duration": 401,
    "start_time": "2023-04-07T19:28:39.284Z"
   },
   {
    "duration": 352,
    "start_time": "2023-04-07T19:28:39.687Z"
   },
   {
    "duration": 475,
    "start_time": "2023-04-07T19:28:40.041Z"
   },
   {
    "duration": 5,
    "start_time": "2023-04-07T19:28:40.517Z"
   },
   {
    "duration": 10,
    "start_time": "2023-04-07T19:28:40.524Z"
   },
   {
    "duration": 8,
    "start_time": "2023-04-07T19:28:40.536Z"
   },
   {
    "duration": 4,
    "start_time": "2023-04-07T19:28:40.545Z"
   },
   {
    "duration": 202,
    "start_time": "2023-04-07T19:28:40.551Z"
   },
   {
    "duration": 3,
    "start_time": "2023-04-07T19:28:40.754Z"
   },
   {
    "duration": 99,
    "start_time": "2023-04-07T19:28:40.759Z"
   },
   {
    "duration": 19,
    "start_time": "2023-04-07T19:28:55.228Z"
   },
   {
    "duration": 3,
    "start_time": "2023-04-07T19:58:16.846Z"
   },
   {
    "duration": 18,
    "start_time": "2023-04-07T19:58:18.831Z"
   },
   {
    "duration": 16,
    "start_time": "2023-04-07T20:04:24.901Z"
   },
   {
    "duration": 3,
    "start_time": "2023-04-07T20:13:06.648Z"
   },
   {
    "duration": 4,
    "start_time": "2023-04-07T20:28:41.324Z"
   },
   {
    "duration": 4,
    "start_time": "2023-04-07T20:31:03.927Z"
   },
   {
    "duration": 4,
    "start_time": "2023-04-07T20:39:44.825Z"
   },
   {
    "duration": 23,
    "start_time": "2023-04-07T20:42:01.085Z"
   },
   {
    "duration": 9,
    "start_time": "2023-04-07T20:43:56.837Z"
   },
   {
    "duration": 27,
    "start_time": "2023-04-07T20:44:13.922Z"
   },
   {
    "duration": 4,
    "start_time": "2023-04-07T20:45:31.974Z"
   },
   {
    "duration": 22,
    "start_time": "2023-04-07T20:45:32.392Z"
   },
   {
    "duration": 31,
    "start_time": "2023-04-07T20:45:35.494Z"
   },
   {
    "duration": 4,
    "start_time": "2023-04-07T20:46:13.101Z"
   },
   {
    "duration": 23,
    "start_time": "2023-04-07T20:46:13.480Z"
   },
   {
    "duration": 33,
    "start_time": "2023-04-07T20:46:13.867Z"
   },
   {
    "duration": 36,
    "start_time": "2023-04-07T20:46:22.757Z"
   },
   {
    "duration": 19,
    "start_time": "2023-04-07T20:47:23.632Z"
   },
   {
    "duration": 32,
    "start_time": "2023-04-07T20:47:24.114Z"
   },
   {
    "duration": 3,
    "start_time": "2023-04-07T20:48:26.150Z"
   },
   {
    "duration": 20,
    "start_time": "2023-04-07T20:48:26.614Z"
   },
   {
    "duration": 34,
    "start_time": "2023-04-07T20:48:27.327Z"
   },
   {
    "duration": 4,
    "start_time": "2023-04-07T20:49:45.501Z"
   },
   {
    "duration": 3,
    "start_time": "2023-04-07T20:49:48.169Z"
   },
   {
    "duration": 22,
    "start_time": "2023-04-07T20:49:48.542Z"
   },
   {
    "duration": 33,
    "start_time": "2023-04-07T20:49:49.076Z"
   },
   {
    "duration": 33,
    "start_time": "2023-04-07T20:52:12.575Z"
   },
   {
    "duration": 4,
    "start_time": "2023-04-07T20:57:03.750Z"
   },
   {
    "duration": 2,
    "start_time": "2023-04-07T20:57:04.125Z"
   },
   {
    "duration": 19,
    "start_time": "2023-04-07T20:57:04.503Z"
   },
   {
    "duration": 40,
    "start_time": "2023-04-07T20:57:07.668Z"
   },
   {
    "duration": 1731,
    "start_time": "2023-04-09T17:57:00.711Z"
   },
   {
    "duration": 2664,
    "start_time": "2023-04-09T17:57:02.449Z"
   },
   {
    "duration": 212,
    "start_time": "2023-04-09T17:57:05.114Z"
   },
   {
    "duration": 164,
    "start_time": "2023-04-09T17:57:05.328Z"
   },
   {
    "duration": 19,
    "start_time": "2023-04-09T17:57:05.494Z"
   },
   {
    "duration": 21,
    "start_time": "2023-04-09T17:57:05.515Z"
   },
   {
    "duration": 577,
    "start_time": "2023-04-09T17:57:05.537Z"
   },
   {
    "duration": 598,
    "start_time": "2023-04-09T17:57:06.116Z"
   },
   {
    "duration": 583,
    "start_time": "2023-04-09T17:57:06.716Z"
   },
   {
    "duration": 3,
    "start_time": "2023-04-09T17:57:07.302Z"
   },
   {
    "duration": 10,
    "start_time": "2023-04-09T17:57:07.307Z"
   },
   {
    "duration": 25,
    "start_time": "2023-04-09T17:57:07.318Z"
   },
   {
    "duration": 5,
    "start_time": "2023-04-09T17:57:07.345Z"
   },
   {
    "duration": 287,
    "start_time": "2023-04-09T17:57:07.351Z"
   },
   {
    "duration": 6,
    "start_time": "2023-04-09T17:57:07.643Z"
   },
   {
    "duration": 48,
    "start_time": "2023-04-09T17:57:07.651Z"
   },
   {
    "duration": 8,
    "start_time": "2023-04-09T17:57:07.701Z"
   },
   {
    "duration": 59,
    "start_time": "2023-04-09T17:57:07.710Z"
   },
   {
    "duration": 177,
    "start_time": "2023-04-09T17:57:07.781Z"
   },
   {
    "duration": 38,
    "start_time": "2023-04-09T20:01:56.375Z"
   },
   {
    "duration": 42,
    "start_time": "2023-04-09T20:02:37.987Z"
   },
   {
    "duration": 36,
    "start_time": "2023-04-09T20:03:08.866Z"
   },
   {
    "duration": 39,
    "start_time": "2023-04-09T20:03:09.492Z"
   },
   {
    "duration": 52,
    "start_time": "2023-04-09T20:03:20.134Z"
   },
   {
    "duration": 79,
    "start_time": "2023-04-09T20:03:20.811Z"
   },
   {
    "duration": 30,
    "start_time": "2023-04-09T20:04:16.006Z"
   },
   {
    "duration": 64,
    "start_time": "2023-04-09T20:05:06.915Z"
   },
   {
    "duration": 1535,
    "start_time": "2023-04-12T18:30:08.514Z"
   },
   {
    "duration": 1419,
    "start_time": "2023-04-12T18:30:14.090Z"
   },
   {
    "duration": 877,
    "start_time": "2023-04-12T18:30:15.511Z"
   },
   {
    "duration": 202,
    "start_time": "2023-04-12T18:30:16.390Z"
   },
   {
    "duration": 166,
    "start_time": "2023-04-12T18:30:16.594Z"
   },
   {
    "duration": 16,
    "start_time": "2023-04-12T18:30:16.763Z"
   },
   {
    "duration": 4,
    "start_time": "2023-04-12T18:30:16.789Z"
   },
   {
    "duration": 447,
    "start_time": "2023-04-12T18:30:16.795Z"
   },
   {
    "duration": 440,
    "start_time": "2023-04-12T18:30:17.244Z"
   },
   {
    "duration": 515,
    "start_time": "2023-04-12T18:30:17.686Z"
   },
   {
    "duration": 3,
    "start_time": "2023-04-12T18:30:18.203Z"
   },
   {
    "duration": 154,
    "start_time": "2023-04-12T18:30:18.208Z"
   },
   {
    "duration": 17,
    "start_time": "2023-04-12T18:30:18.364Z"
   },
   {
    "duration": 9,
    "start_time": "2023-04-12T18:30:18.383Z"
   },
   {
    "duration": 239,
    "start_time": "2023-04-12T18:30:18.394Z"
   },
   {
    "duration": 4,
    "start_time": "2023-04-12T18:30:18.634Z"
   },
   {
    "duration": 30,
    "start_time": "2023-04-12T18:30:18.640Z"
   },
   {
    "duration": 18,
    "start_time": "2023-04-12T18:30:18.672Z"
   },
   {
    "duration": 98,
    "start_time": "2023-04-12T18:30:18.692Z"
   },
   {
    "duration": 128,
    "start_time": "2023-04-12T18:30:18.793Z"
   },
   {
    "duration": 180,
    "start_time": "2023-04-12T18:30:18.922Z"
   },
   {
    "duration": 215,
    "start_time": "2023-04-12T18:30:19.105Z"
   },
   {
    "duration": 183,
    "start_time": "2023-04-12T18:30:19.323Z"
   },
   {
    "duration": 206,
    "start_time": "2023-04-12T18:30:19.508Z"
   },
   {
    "duration": 175,
    "start_time": "2023-04-12T18:30:19.716Z"
   },
   {
    "duration": 116,
    "start_time": "2023-04-12T18:31:38.613Z"
   },
   {
    "duration": 4,
    "start_time": "2023-04-12T19:34:59.597Z"
   },
   {
    "duration": 1652,
    "start_time": "2023-04-12T19:35:06.653Z"
   },
   {
    "duration": 390,
    "start_time": "2023-04-12T19:35:08.307Z"
   },
   {
    "duration": 221,
    "start_time": "2023-04-12T19:35:08.699Z"
   },
   {
    "duration": 158,
    "start_time": "2023-04-12T19:35:08.922Z"
   },
   {
    "duration": 28,
    "start_time": "2023-04-12T19:35:09.082Z"
   },
   {
    "duration": 5,
    "start_time": "2023-04-12T19:35:09.112Z"
   },
   {
    "duration": 463,
    "start_time": "2023-04-12T19:35:09.119Z"
   },
   {
    "duration": 457,
    "start_time": "2023-04-12T19:35:09.584Z"
   },
   {
    "duration": 646,
    "start_time": "2023-04-12T19:35:10.043Z"
   },
   {
    "duration": 4,
    "start_time": "2023-04-12T19:35:10.691Z"
   },
   {
    "duration": 8,
    "start_time": "2023-04-12T19:35:10.697Z"
   },
   {
    "duration": 9,
    "start_time": "2023-04-12T19:35:10.706Z"
   },
   {
    "duration": 6,
    "start_time": "2023-04-12T19:35:10.716Z"
   },
   {
    "duration": 269,
    "start_time": "2023-04-12T19:35:10.724Z"
   },
   {
    "duration": 4,
    "start_time": "2023-04-12T19:35:10.994Z"
   },
   {
    "duration": 7,
    "start_time": "2023-04-12T19:35:11.000Z"
   },
   {
    "duration": 9,
    "start_time": "2023-04-12T19:35:11.009Z"
   },
   {
    "duration": 75,
    "start_time": "2023-04-12T19:35:11.019Z"
   },
   {
    "duration": 198,
    "start_time": "2023-04-12T19:35:11.097Z"
   },
   {
    "duration": 191,
    "start_time": "2023-04-12T19:35:11.298Z"
   },
   {
    "duration": 129,
    "start_time": "2023-04-12T19:35:11.492Z"
   },
   {
    "duration": 178,
    "start_time": "2023-04-12T19:35:11.623Z"
   },
   {
    "duration": 212,
    "start_time": "2023-04-12T19:35:11.803Z"
   },
   {
    "duration": 277,
    "start_time": "2023-04-12T19:35:12.017Z"
   },
   {
    "duration": 40,
    "start_time": "2023-04-12T19:39:06.252Z"
   },
   {
    "duration": 26,
    "start_time": "2023-04-12T19:41:25.665Z"
   },
   {
    "duration": 6,
    "start_time": "2023-04-12T20:45:19.328Z"
   },
   {
    "duration": 13,
    "start_time": "2023-04-12T20:46:48.033Z"
   },
   {
    "duration": 34,
    "start_time": "2023-04-12T20:47:10.780Z"
   },
   {
    "duration": 31,
    "start_time": "2023-04-12T20:47:22.404Z"
   },
   {
    "duration": 213,
    "start_time": "2023-04-12T20:47:50.675Z"
   },
   {
    "duration": 213,
    "start_time": "2023-04-12T20:49:14.675Z"
   },
   {
    "duration": 88,
    "start_time": "2023-04-12T20:49:49.003Z"
   },
   {
    "duration": 6,
    "start_time": "2023-04-12T20:55:29.929Z"
   },
   {
    "duration": 47,
    "start_time": "2023-04-12T20:55:30.346Z"
   },
   {
    "duration": 56,
    "start_time": "2023-04-12T20:55:30.632Z"
   },
   {
    "duration": 70,
    "start_time": "2023-04-12T20:55:30.921Z"
   },
   {
    "duration": 8,
    "start_time": "2023-04-12T20:57:38.441Z"
   },
   {
    "duration": 1608,
    "start_time": "2023-04-13T17:44:14.058Z"
   },
   {
    "duration": 875,
    "start_time": "2023-04-13T17:44:15.669Z"
   },
   {
    "duration": 181,
    "start_time": "2023-04-13T17:44:16.546Z"
   },
   {
    "duration": 150,
    "start_time": "2023-04-13T17:44:16.729Z"
   },
   {
    "duration": 14,
    "start_time": "2023-04-13T17:44:16.881Z"
   },
   {
    "duration": 4,
    "start_time": "2023-04-13T17:44:16.897Z"
   },
   {
    "duration": 426,
    "start_time": "2023-04-13T17:44:16.903Z"
   },
   {
    "duration": 549,
    "start_time": "2023-04-13T17:44:17.332Z"
   },
   {
    "duration": 423,
    "start_time": "2023-04-13T17:44:17.883Z"
   },
   {
    "duration": 3,
    "start_time": "2023-04-13T17:44:18.308Z"
   },
   {
    "duration": 39,
    "start_time": "2023-04-13T17:44:18.313Z"
   },
   {
    "duration": 23,
    "start_time": "2023-04-13T17:44:18.353Z"
   },
   {
    "duration": 43,
    "start_time": "2023-04-13T17:44:18.378Z"
   },
   {
    "duration": 220,
    "start_time": "2023-04-13T17:44:18.423Z"
   },
   {
    "duration": 3,
    "start_time": "2023-04-13T17:44:18.645Z"
   },
   {
    "duration": 5,
    "start_time": "2023-04-13T17:44:18.656Z"
   },
   {
    "duration": 18,
    "start_time": "2023-04-13T17:44:18.662Z"
   },
   {
    "duration": 75,
    "start_time": "2023-04-13T17:44:18.682Z"
   },
   {
    "duration": 134,
    "start_time": "2023-04-13T17:44:18.758Z"
   },
   {
    "duration": 262,
    "start_time": "2023-04-13T17:44:18.893Z"
   },
   {
    "duration": 130,
    "start_time": "2023-04-13T17:44:19.159Z"
   },
   {
    "duration": 266,
    "start_time": "2023-04-13T17:44:19.291Z"
   },
   {
    "duration": 194,
    "start_time": "2023-04-13T17:44:19.563Z"
   },
   {
    "duration": 204,
    "start_time": "2023-04-13T17:44:19.758Z"
   },
   {
    "duration": 7,
    "start_time": "2023-04-13T17:44:20.056Z"
   },
   {
    "duration": 106,
    "start_time": "2023-04-13T17:44:20.065Z"
   },
   {
    "duration": 112,
    "start_time": "2023-04-13T17:44:20.258Z"
   },
   {
    "duration": 198,
    "start_time": "2023-04-13T17:44:20.373Z"
   },
   {
    "duration": 8,
    "start_time": "2023-04-13T17:44:20.655Z"
   },
   {
    "duration": 2,
    "start_time": "2023-04-13T18:20:27.923Z"
   },
   {
    "duration": 4,
    "start_time": "2023-04-13T18:43:58.531Z"
   },
   {
    "duration": 109,
    "start_time": "2023-04-13T18:46:36.235Z"
   },
   {
    "duration": 5,
    "start_time": "2023-04-13T18:47:00.369Z"
   },
   {
    "duration": 5,
    "start_time": "2023-04-13T18:54:13.247Z"
   },
   {
    "duration": 6,
    "start_time": "2023-04-13T18:58:48.923Z"
   },
   {
    "duration": 6,
    "start_time": "2023-04-13T19:02:00.071Z"
   },
   {
    "duration": 10,
    "start_time": "2023-04-13T19:05:44.484Z"
   },
   {
    "duration": 471,
    "start_time": "2023-04-13T19:09:09.181Z"
   },
   {
    "duration": 1589,
    "start_time": "2023-04-13T19:11:20.727Z"
   },
   {
    "duration": 1345,
    "start_time": "2023-04-13T19:11:58.588Z"
   },
   {
    "duration": 1085,
    "start_time": "2023-04-13T19:13:28.999Z"
   },
   {
    "duration": 1390,
    "start_time": "2023-04-13T19:19:04.103Z"
   },
   {
    "duration": 4,
    "start_time": "2023-04-13T19:47:05.048Z"
   },
   {
    "duration": 7,
    "start_time": "2023-04-13T19:52:02.214Z"
   },
   {
    "duration": 1178,
    "start_time": "2023-04-13T20:02:44.315Z"
   },
   {
    "duration": 1125,
    "start_time": "2023-04-13T20:03:35.628Z"
   },
   {
    "duration": 1269,
    "start_time": "2023-04-13T20:04:23.293Z"
   },
   {
    "duration": 1283,
    "start_time": "2023-04-13T20:04:35.831Z"
   },
   {
    "duration": 1169,
    "start_time": "2023-04-13T20:04:49.722Z"
   },
   {
    "duration": 1277,
    "start_time": "2023-04-13T20:05:33.025Z"
   }
  ],
  "kernelspec": {
   "display_name": "Python 3 (ipykernel)",
   "language": "python",
   "name": "python3"
  },
  "language_info": {
   "codemirror_mode": {
    "name": "ipython",
    "version": 3
   },
   "file_extension": ".py",
   "mimetype": "text/x-python",
   "name": "python",
   "nbconvert_exporter": "python",
   "pygments_lexer": "ipython3",
   "version": "3.9.16"
  },
  "toc": {
   "base_numbering": 1,
   "nav_menu": {},
   "number_sections": true,
   "sideBar": true,
   "skip_h1_title": true,
   "title_cell": "Table of Contents",
   "title_sidebar": "Contents",
   "toc_cell": false,
   "toc_position": {
    "height": "calc(100% - 180px)",
    "left": "10px",
    "top": "150px",
    "width": "289.433px"
   },
   "toc_section_display": true,
   "toc_window_display": true
  }
 },
 "nbformat": 4,
 "nbformat_minor": 2
}
